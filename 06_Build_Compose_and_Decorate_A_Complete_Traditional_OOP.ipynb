{
  "nbformat": 4,
  "nbformat_minor": 0,
  "metadata": {
    "colab": {
      "provenance": [],
      "authorship_tag": "ABX9TyP/jA/3P+FMgfVrOyc78Uix",
      "include_colab_link": true
    },
    "kernelspec": {
      "name": "python3",
      "display_name": "Python 3"
    },
    "language_info": {
      "name": "python"
    }
  },
  "cells": [
    {
      "cell_type": "markdown",
      "metadata": {
        "id": "view-in-github",
        "colab_type": "text"
      },
      "source": [
        "<a href=\"https://colab.research.google.com/github/nidatariq128/Assingment-6/blob/main/06_Build_Compose_and_Decorate_A_Complete_Traditional_OOP.ipynb\" target=\"_parent\"><img src=\"https://colab.research.google.com/assets/colab-badge.svg\" alt=\"Open In Colab\"/></a>"
      ]
    },
    {
      "cell_type": "markdown",
      "source": [
        "01.Using self"
      ],
      "metadata": {
        "id": "mv1iFdQiIjmh"
      }
    },
    {
      "cell_type": "code",
      "source": [
        "class Student:\n",
        "    def __init__(self, name, marks):\n",
        "        self.name = name\n",
        "        self.marks = marks\n",
        "\n",
        "    def display(self):\n",
        "        print(\"Student Name:\", self.name)\n",
        "        print(\"Marks:\", self.marks)\n",
        "\n",
        "# Object banate hain\n",
        "student1 = Student(\"Ayat\", 87)\n",
        "\n",
        "# Display method call karta h\n",
        "student1.display()"
      ],
      "metadata": {
        "colab": {
          "base_uri": "https://localhost:8080/"
        },
        "id": "R0WFeThgIqVi",
        "outputId": "efa41199-42b9-4d9c-aae2-29963bf26fd0"
      },
      "execution_count": 2,
      "outputs": [
        {
          "output_type": "stream",
          "name": "stdout",
          "text": [
            "Student Name: Ayat\n",
            "Marks: 87\n"
          ]
        }
      ]
    },
    {
      "cell_type": "markdown",
      "source": [
        "02.Using cls ap jitni br print kro gy no. plus hota jaay ga"
      ],
      "metadata": {
        "id": "LPjuYPQBI17r"
      }
    },
    {
      "cell_type": "code",
      "source": [
        "class Counter:\n",
        "  count=0\n",
        "\n",
        "  def __init__(self):\n",
        "\n",
        "    Counter.count += 1\n",
        "\n",
        "  @classmethod\n",
        "  def display_count(cls):\n",
        "    print(\"Total objects created:\", cls.count)\n",
        "\n",
        "# Objects create karte hain\n",
        "c1 = Counter()\n",
        "c2 = Counter()\n",
        "c3 = Counter()\n",
        "c4 = Counter()\n",
        "\n",
        "# Count display karte hain\n",
        "Counter.display_count()"
      ],
      "metadata": {
        "colab": {
          "base_uri": "https://localhost:8080/"
        },
        "id": "0CaKkF66I6fH",
        "outputId": "8354fe06-7047-4811-b06a-b200c72b14d1"
      },
      "execution_count": 3,
      "outputs": [
        {
          "output_type": "stream",
          "name": "stdout",
          "text": [
            "Total objects created: 4\n"
          ]
        }
      ]
    },
    {
      "cell_type": "markdown",
      "source": [
        "03.Public Variables and Methods"
      ],
      "metadata": {
        "id": "51LBgR7_JAcD"
      }
    },
    {
      "cell_type": "code",
      "source": [
        "class Car:\n",
        "  brand=\"Toyota\"\n",
        "\n",
        "  def start(self):\n",
        "    print(\"The car has started\")\n",
        "\n",
        "car1=Car()\n",
        "\n",
        "print(\"Car brand:\",car1.brand)\n",
        "\n",
        "car1.start()"
      ],
      "metadata": {
        "colab": {
          "base_uri": "https://localhost:8080/"
        },
        "id": "eHb9U5fmJB-u",
        "outputId": "798aad07-ac8d-4ec1-877e-362dad3a4db0"
      },
      "execution_count": 4,
      "outputs": [
        {
          "output_type": "stream",
          "name": "stdout",
          "text": [
            "Car brand: Toyota\n",
            "The car has started\n"
          ]
        }
      ]
    },
    {
      "cell_type": "markdown",
      "source": [
        "04.Class Variables and Class Methods"
      ],
      "metadata": {
        "id": "1oX04PexJFUT"
      }
    },
    {
      "cell_type": "code",
      "source": [
        "class Bank:\n",
        "   bank_name = \"Meezan bank\"\n",
        "\n",
        "   @classmethod\n",
        "   def change_bank_name(cls, name):\n",
        "     cls.bank_name = name\n",
        "\n",
        "account1 = Bank()\n",
        "account2 = Bank()\n",
        "account3 = Bank()\n",
        "\n",
        "print(\"Account1 Bank:\", account1.bank_name)\n",
        "print(\"Account2 Bank:\", account2.bank_name)\n",
        "print(\"Account3 Bank:\", account3.bank_name)\n",
        "\n",
        "Bank.change_bank_name(\"Alfalah bank\")\n",
        "\n",
        "print(\"Account1 Bank after change:\", account1.bank_name)\n",
        "print(\"Account2 Bank after change:\", account2.bank_name)\n",
        "print(\"Account3 Bank after change:\", account3.bank_name)"
      ],
      "metadata": {
        "colab": {
          "base_uri": "https://localhost:8080/"
        },
        "id": "_rFfjlY4JIS1",
        "outputId": "6cecb9d8-c516-4a3e-82fc-c3030fec670b"
      },
      "execution_count": 5,
      "outputs": [
        {
          "output_type": "stream",
          "name": "stdout",
          "text": [
            "Account1 Bank: Meezan bank\n",
            "Account2 Bank: Meezan bank\n",
            "Account3 Bank: Meezan bank\n",
            "Account1 Bank after change: Alfalah bank\n",
            "Account2 Bank after change: Alfalah bank\n",
            "Account3 Bank after change: Alfalah bank\n"
          ]
        }
      ]
    },
    {
      "cell_type": "markdown",
      "source": [
        "05.Static Variables and Static Methods"
      ],
      "metadata": {
        "id": "cbFXRNvKJOCi"
      }
    },
    {
      "cell_type": "code",
      "source": [
        "class MathUtils:\n",
        "\n",
        "  @staticmethod\n",
        "  def add(a,b):\n",
        "    return a+b\n",
        "\n",
        "result = MathUtils.add(5, 3)\n",
        "\n",
        "print(\"Sum is:\", result)"
      ],
      "metadata": {
        "colab": {
          "base_uri": "https://localhost:8080/"
        },
        "id": "DqzOkfRCJO8n",
        "outputId": "f36909b6-f568-4853-ddd5-e3defab08b05"
      },
      "execution_count": 6,
      "outputs": [
        {
          "output_type": "stream",
          "name": "stdout",
          "text": [
            "Sum is: 8\n"
          ]
        }
      ]
    },
    {
      "cell_type": "markdown",
      "source": [
        "06.Constructors and Destructors"
      ],
      "metadata": {
        "id": "NPQMUwq4JW2b"
      }
    },
    {
      "cell_type": "code",
      "source": [
        "class Logger:\n",
        "\n",
        "  def __init__(self):\n",
        "    print(\"Logger object has been created\")\n",
        "\n",
        "  def __del__(self):\n",
        "    print(\"Logger object has been destroyed\")\n",
        "\n",
        "Log1 = Logger()\n",
        "del Log1"
      ],
      "metadata": {
        "colab": {
          "base_uri": "https://localhost:8080/"
        },
        "id": "2mSi22zxJZxp",
        "outputId": "4555c201-5ec2-4e97-bd08-1e9026654688"
      },
      "execution_count": 7,
      "outputs": [
        {
          "output_type": "stream",
          "name": "stdout",
          "text": [
            "Logger object has been created\n",
            "Logger object has been destroyed\n"
          ]
        }
      ]
    },
    {
      "cell_type": "markdown",
      "source": [
        "07.Access Modifiers: Public, Private, and Protected"
      ],
      "metadata": {
        "id": "DMHrNzTrJc0m"
      }
    },
    {
      "cell_type": "code",
      "source": [
        "class Employee:\n",
        "  def __init__(self,name,salry,ssn):\n",
        "    self.name = name\n",
        "    self._salry = salry\n",
        "    self.__ssn = ssn  #__ye private krne k liy hota h\n",
        "\n",
        "emp1= Employee(\"Nida\", 5000, 4324)\n",
        "\n",
        "print(\"Name:\",emp1.name)\n",
        "\n",
        "print(\"Salry(protected):\",emp1._salry)\n",
        "try:\n",
        "   print(\"SSN(private):\", emp1.__ssn)\n",
        "except AttributeError as e:\n",
        "   print(\"Error accessing private variable:\",e)\n",
        "\n",
        "   print(\"SSN (accessed via name mangling):\", emp1._Employee__ssn)"
      ],
      "metadata": {
        "colab": {
          "base_uri": "https://localhost:8080/"
        },
        "id": "aFg6i3E8Jfd4",
        "outputId": "a34b6041-69ca-40aa-daeb-7fddd11d0592"
      },
      "execution_count": 9,
      "outputs": [
        {
          "output_type": "stream",
          "name": "stdout",
          "text": [
            "Name: Nida\n",
            "Salry(protected): 5000\n",
            "Error accessing private variable: 'Employee' object has no attribute '__ssn'\n",
            "SSN (accessed via name mangling): 4324\n"
          ]
        }
      ]
    },
    {
      "cell_type": "markdown",
      "source": [
        "08.The super() Function"
      ],
      "metadata": {
        "id": "KIDqs4fTJqA8"
      }
    },
    {
      "cell_type": "code",
      "source": [
        "class Person:\n",
        "  def __init__(self, name):\n",
        "    self.name = name\n",
        "\n",
        "class Teacher(Person):\n",
        "  def __init__(self,name,subject):\n",
        "    super(). __init__(name)\n",
        "    self.subject = subject\n",
        "\n",
        "  def display(self) :\n",
        "    print(\"Name:\",self.name)\n",
        "    print(\"Subject:\",self.subject)\n",
        "\n",
        "teacher1  = Teacher(\"Nida:\", \"Artificial inteligence\")\n",
        "teacher1.display()"
      ],
      "metadata": {
        "colab": {
          "base_uri": "https://localhost:8080/"
        },
        "id": "IVAqIYn2Js7o",
        "outputId": "5a587457-06e6-4c77-d5da-e3324676da5b"
      },
      "execution_count": 10,
      "outputs": [
        {
          "output_type": "stream",
          "name": "stdout",
          "text": [
            "Name: Nida:\n",
            "Subject: Artificial inteligence\n"
          ]
        }
      ]
    },
    {
      "cell_type": "markdown",
      "source": [
        "09.Abstract Classes and Methods"
      ],
      "metadata": {
        "id": "c1yoiKIKJymg"
      }
    },
    {
      "cell_type": "code",
      "source": [
        "from abc import ABC, abstractmethod\n",
        "\n",
        "class Shape(ABC):\n",
        "  @abstractmethod\n",
        "  def area(self):\n",
        "    pass\n",
        "\n",
        "class Rectangle(Shape):\n",
        "  def __init__(self,height,width):\n",
        "    self.height = height\n",
        "    self.width = width\n",
        "\n",
        "  def area(self):\n",
        "     return self.height * self.width\n",
        "\n",
        "rect = Rectangle(5, 6)\n",
        "\n",
        "print(\"Area of rectangle:\", rect.area())"
      ],
      "metadata": {
        "colab": {
          "base_uri": "https://localhost:8080/"
        },
        "id": "i2ItSwQUJ1mk",
        "outputId": "f28fa034-73e0-4866-fff4-18f56e2db6ec"
      },
      "execution_count": 11,
      "outputs": [
        {
          "output_type": "stream",
          "name": "stdout",
          "text": [
            "Area of rectangle: 30\n"
          ]
        }
      ]
    },
    {
      "cell_type": "markdown",
      "source": [
        "10.Instance Methods"
      ],
      "metadata": {
        "id": "WeVOnuYgJ5tv"
      }
    },
    {
      "cell_type": "code",
      "source": [
        "\n",
        "class Dog:\n",
        "  def __init__(self,name,breed):\n",
        "    self.name = name\n",
        "    self.breed = breed\n",
        "  def bark(self):\n",
        "    print(f\"{self.name} is barking!\")\n",
        "\n",
        "dog1 = Dog(\"tommy\",\"Labrador\")\n",
        "dog1.bark()"
      ],
      "metadata": {
        "colab": {
          "base_uri": "https://localhost:8080/"
        },
        "id": "00rjUxqtJ8GW",
        "outputId": "4dc1d28f-c6c9-49c7-c8d7-24e98562b0f1"
      },
      "execution_count": 12,
      "outputs": [
        {
          "output_type": "stream",
          "name": "stdout",
          "text": [
            "tommy is barking!\n"
          ]
        }
      ]
    },
    {
      "cell_type": "markdown",
      "source": [
        "11.\n",
        "Class Methods"
      ],
      "metadata": {
        "id": "LdFpA8CVJ_RS"
      }
    },
    {
      "cell_type": "code",
      "source": [
        "class Book:\n",
        "    # Class variable\n",
        "    total_books = 0\n",
        "\n",
        "    def __init__(self, title):\n",
        "        self.title = title\n",
        "        Book.increment_book_count()\n",
        "\n",
        "    @classmethod\n",
        "    def increment_book_count(cls):\n",
        "        cls.total_books += 1\n",
        "\n",
        "    @classmethod\n",
        "    def display_total_books(cls):\n",
        "        print(\"Total books:\", cls.total_books)\n",
        "\n",
        "book1 = Book(\"Python Basics\")\n",
        "book2 = Book(\"Learn Java\")\n",
        "book3 = Book(\"C++ Guide\")\n",
        "\n",
        "Book.display_total_books()"
      ],
      "metadata": {
        "colab": {
          "base_uri": "https://localhost:8080/"
        },
        "id": "iVEhVyH_KBWB",
        "outputId": "a019a48d-c333-4e2a-d39a-f2ff11e14e1e"
      },
      "execution_count": 13,
      "outputs": [
        {
          "output_type": "stream",
          "name": "stdout",
          "text": [
            "Total books: 3\n"
          ]
        }
      ]
    },
    {
      "cell_type": "markdown",
      "source": [
        "12.Static Methods"
      ],
      "metadata": {
        "id": "8WfEOgKnKEoT"
      }
    },
    {
      "cell_type": "code",
      "source": [
        "class TemperatureConverter:\n",
        "    @staticmethod\n",
        "    def celsius_to_fahrenheit(c):\n",
        "      return (c * 9/5) + 32\n",
        "\n",
        "print(\"25°C in Fahrenheit:\", TemperatureConverter.celsius_to_fahrenheit(25))\n",
        "\n",
        "converter =  TemperatureConverter()\n",
        "\n",
        "print(\"30°C in Fahrenheit:\", converter.celsius_to_fahrenheit(30))"
      ],
      "metadata": {
        "colab": {
          "base_uri": "https://localhost:8080/"
        },
        "id": "28TQKhsEKHqw",
        "outputId": "35bc739d-c4af-4861-9e2c-e7d82679feb8"
      },
      "execution_count": 14,
      "outputs": [
        {
          "output_type": "stream",
          "name": "stdout",
          "text": [
            "25°C in Fahrenheit: 77.0\n",
            "30°C in Fahrenheit: 86.0\n"
          ]
        }
      ]
    },
    {
      "cell_type": "markdown",
      "source": [
        "13.Composition"
      ],
      "metadata": {
        "id": "qwW71eVtKK-d"
      }
    },
    {
      "cell_type": "code",
      "source": [
        "class Engine:\n",
        "  def start(self):\n",
        "    print(\"Engine started\")\n",
        "\n",
        "class Car:\n",
        "  def __init__(self,engine):\n",
        "   self.engine = engine\n",
        "\n",
        "  def start_car(self):\n",
        "     print(\"Car is started\")\n",
        "     self.engine.start()\n",
        "\n",
        "engine1 = Engine()\n",
        "car1 = Car(engine1)\n",
        "car1.start_car()"
      ],
      "metadata": {
        "colab": {
          "base_uri": "https://localhost:8080/"
        },
        "id": "6cAJix2bKM7S",
        "outputId": "cfa47352-6a68-4563-f304-8d4e554f3bcd"
      },
      "execution_count": 15,
      "outputs": [
        {
          "output_type": "stream",
          "name": "stdout",
          "text": [
            "Car is started\n",
            "Engine started\n"
          ]
        }
      ]
    },
    {
      "cell_type": "markdown",
      "source": [
        "14.Aggregation"
      ],
      "metadata": {
        "id": "yBSsKCEEKSYa"
      }
    },
    {
      "cell_type": "code",
      "source": [
        "class Employee:\n",
        "    def __init__(self, name):\n",
        "        self.name = name\n",
        "\n",
        "    def show(self):\n",
        "        print(\"Employee Name:\", self.name)\n",
        "\n",
        "class Department:\n",
        "    def __init__(self, dept_name, employee):\n",
        "        self.dept_name = dept_name\n",
        "        self.employee = employee\n",
        "\n",
        "    def show_department(self):\n",
        "        print(\"Department Name:\", self.dept_name)\n",
        "        self.employee.show()\n",
        "\n",
        "emp1 = Employee(\"Nida\")\n",
        "\n",
        "dept1 = Department(\"IT\", emp1)\n",
        "dept1.show_department()\n",
        "emp1.show()"
      ],
      "metadata": {
        "colab": {
          "base_uri": "https://localhost:8080/"
        },
        "id": "yKDKtIbdKWy5",
        "outputId": "52bf749d-f267-4a39-ce3e-9b02dbaf2506"
      },
      "execution_count": 17,
      "outputs": [
        {
          "output_type": "stream",
          "name": "stdout",
          "text": [
            "Department Name: IT\n",
            "Employee Name: Nida\n",
            "Employee Name: Nida\n"
          ]
        }
      ]
    },
    {
      "cell_type": "markdown",
      "source": [
        "15.Method Resolution Order (MRO) and Diamond Inheritance"
      ],
      "metadata": {
        "id": "2XyAn5ETKcSl"
      }
    },
    {
      "cell_type": "code",
      "source": [
        "class A:\n",
        "    def show(self):\n",
        "        print(\"Method from class A\")\n",
        "\n",
        "class B(A):\n",
        "    def show(self):\n",
        "        print(\"Method from class B\")\n",
        "\n",
        "class C(A):\n",
        "    def show(self):\n",
        "        print(\"Method from class C\")\n",
        "\n",
        "class D(B, C):\n",
        "    pass\n",
        "\n",
        "d = D()\n",
        "d.show()\n",
        "print(\"MRO of class D:\", [cls.__name__ for cls in D.__mro__])"
      ],
      "metadata": {
        "colab": {
          "base_uri": "https://localhost:8080/"
        },
        "id": "Z4_2cKnFKfno",
        "outputId": "a6ce83f0-ea33-44ae-c426-53ae443f3c7a"
      },
      "execution_count": 18,
      "outputs": [
        {
          "output_type": "stream",
          "name": "stdout",
          "text": [
            "Method from class B\n",
            "MRO of class D: ['D', 'B', 'C', 'A', 'object']\n"
          ]
        }
      ]
    },
    {
      "cell_type": "markdown",
      "source": [
        "16.Function Decorators"
      ],
      "metadata": {
        "id": "lHRWZltgKjH_"
      }
    },
    {
      "cell_type": "code",
      "source": [
        "def log_function_call(func):\n",
        "    def wrapper():\n",
        "        print(\"Function is being called\")\n",
        "        func()\n",
        "    return wrapper\n",
        "\n",
        "@log_function_call\n",
        "def say_hello():\n",
        "    print(\"Hello!\")\n",
        "\n",
        "say_hello()"
      ],
      "metadata": {
        "colab": {
          "base_uri": "https://localhost:8080/"
        },
        "id": "ZMFoECYPKloX",
        "outputId": "414777e7-4ebf-4418-8d6e-65cf8023963c"
      },
      "execution_count": 19,
      "outputs": [
        {
          "output_type": "stream",
          "name": "stdout",
          "text": [
            "Function is being called\n",
            "Hello!\n"
          ]
        }
      ]
    },
    {
      "cell_type": "markdown",
      "source": [
        "17.Class Decorators\n"
      ],
      "metadata": {
        "id": "QTp170xyKoY9"
      }
    },
    {
      "cell_type": "code",
      "source": [
        "class Product:\n",
        "    def __init__(self, price):\n",
        "        self._price = price\n",
        "\n",
        "    @property\n",
        "    def price(self):\n",
        "        print(\"Getting price...\")\n",
        "        return self._price\n",
        "    @price.setter\n",
        "    def price(self, value):\n",
        "        if value < 0:\n",
        "            print(\"Price cannot be negative!\")\n",
        "        else:\n",
        "            print(\"Setting price...\")\n",
        "            self._price = value\n",
        "\n",
        "    @price.deleter\n",
        "    def price(self):\n",
        "        print(\"Deleting price...\")\n",
        "        del self._price\n",
        "\n",
        "p = Product(100)\n",
        "print(p.price)\n",
        "\n",
        "p.price = 150\n",
        "print(p.price)\n",
        "\n",
        "p.price = -50\n",
        "\n",
        "del p.price"
      ],
      "metadata": {
        "colab": {
          "base_uri": "https://localhost:8080/"
        },
        "id": "IYfadGj-K0UW",
        "outputId": "c4e3a9ba-7836-494c-e86b-d0283fa831ed"
      },
      "execution_count": 20,
      "outputs": [
        {
          "output_type": "stream",
          "name": "stdout",
          "text": [
            "Getting price...\n",
            "100\n",
            "Setting price...\n",
            "Getting price...\n",
            "150\n",
            "Price cannot be negative!\n",
            "Deleting price...\n"
          ]
        }
      ]
    },
    {
      "cell_type": "markdown",
      "source": [
        "18.Property Decorators"
      ],
      "metadata": {
        "id": "16uhE2MUK3da"
      }
    },
    {
      "cell_type": "code",
      "source": [
        "class Product:\n",
        "    def __init__(self, price):\n",
        "        self._price = price  # private attribute\n",
        "\n",
        "    @property\n",
        "    def price(self):\n",
        "        \"\"\"Get the price of the product.\"\"\"\n",
        "        return self._price\n",
        "\n",
        "    @price.setter\n",
        "    def price(self, value):\n",
        "        \"\"\"Set the price of the product.\"\"\"\n",
        "        if value < 0:\n",
        "            raise ValueError(\"Price cannot be negative.\")\n",
        "        self._price = value\n",
        "\n",
        "    @price.deleter\n",
        "    def price(self):\n",
        "        \"\"\"Delete the price of the product.\"\"\"\n",
        "        print(\"Deleting price...\")\n",
        "        del self._price\n",
        "\n",
        "\n",
        "# Example usage:\n",
        "p = Product(100)\n",
        "print(p.price)   # Get price\n",
        "\n",
        "p.price = 150    # Set new price\n",
        "print(p.price)\n",
        "\n",
        "del p.price      # Delete price\n"
      ],
      "metadata": {
        "colab": {
          "base_uri": "https://localhost:8080/"
        },
        "id": "B2y6RAk9LvOy",
        "outputId": "0bd98d8c-3b78-4ec4-cf67-2c453c4d42e9"
      },
      "execution_count": 22,
      "outputs": [
        {
          "output_type": "stream",
          "name": "stdout",
          "text": [
            "100\n",
            "150\n",
            "Deleting price...\n"
          ]
        }
      ]
    },
    {
      "cell_type": "markdown",
      "source": [
        "19.callable() and call()"
      ],
      "metadata": {
        "id": "L678DIIjL5C7"
      }
    },
    {
      "cell_type": "code",
      "source": [
        "class Multiplier:\n",
        "    def __init__(self, factor):\n",
        "        self.factor = factor\n",
        "\n",
        "    def __call__(self, number):\n",
        "        return number * self.factor\n",
        "mul = Multiplier(5)\n",
        "print(callable(mul))\n",
        "\n",
        "result = mul(10)\n",
        "\n",
        "print(result)"
      ],
      "metadata": {
        "colab": {
          "base_uri": "https://localhost:8080/"
        },
        "id": "2-jWSmL9MEr5",
        "outputId": "c07134d7-84c5-45d4-93db-941fbc4f7a99"
      },
      "execution_count": 23,
      "outputs": [
        {
          "output_type": "stream",
          "name": "stdout",
          "text": [
            "True\n",
            "50\n"
          ]
        }
      ]
    },
    {
      "cell_type": "markdown",
      "source": [
        "20.Creating a Custom Exception"
      ],
      "metadata": {
        "id": "Wov4Xxz1MGWS"
      }
    },
    {
      "cell_type": "code",
      "source": [
        "class InvalidAgeError(Exception):\n",
        "    pass\n",
        "\n",
        "def check_age(age):\n",
        "    if age < 18:\n",
        "        raise InvalidAgeError(\"Age must be at least 18.\")\n",
        "    else:\n",
        "        print(\"Age is valid.\")\n",
        "try:\n",
        "    check_age(15)\n",
        "except InvalidAgeError as e:\n",
        "    print(\"Error caught:\", e)\n",
        "\n",
        "try:\n",
        "    check_age(20)\n",
        "except InvalidAgeError as e:\n",
        "    print(\"Error caught:\", e)"
      ],
      "metadata": {
        "colab": {
          "base_uri": "https://localhost:8080/"
        },
        "id": "XauyTMqPMJX0",
        "outputId": "d7347e5f-478e-4e9f-c8b4-0bacb6056872"
      },
      "execution_count": 24,
      "outputs": [
        {
          "output_type": "stream",
          "name": "stdout",
          "text": [
            "Error caught: Age must be at least 18.\n",
            "Age is valid.\n"
          ]
        }
      ]
    },
    {
      "cell_type": "markdown",
      "source": [
        "21.Make a Custom Class Iterable"
      ],
      "metadata": {
        "id": "IaFzJ4b_MPG4"
      }
    },
    {
      "cell_type": "code",
      "source": [
        "class Countdown:\n",
        "    def __init__(self, start):\n",
        "        self.current = start\n",
        "    def __iter__(self):\n",
        "        return self\n",
        "\n",
        "    def __next__(self):\n",
        "        if self.current < 0:\n",
        "            raise StopIteration\n",
        "        else:\n",
        "            value = self.current\n",
        "            self.current -= 1\n",
        "            return value\n",
        "for num in Countdown(5):\n",
        "    print(num)"
      ],
      "metadata": {
        "colab": {
          "base_uri": "https://localhost:8080/"
        },
        "id": "molR2SYaMP1Q",
        "outputId": "f1a2e4d2-07bb-4ee6-b26e-978ed376e4f4"
      },
      "execution_count": 25,
      "outputs": [
        {
          "output_type": "stream",
          "name": "stdout",
          "text": [
            "5\n",
            "4\n",
            "3\n",
            "2\n",
            "1\n",
            "0\n"
          ]
        }
      ]
    }
  ]
}